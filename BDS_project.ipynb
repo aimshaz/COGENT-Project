{
 "cells": [
  {
   "cell_type": "code",
   "execution_count": 1,
   "id": "59cb0c76",
   "metadata": {},
   "outputs": [],
   "source": [
    "import pandas as pd\n"
   ]
  },
  {
   "cell_type": "code",
   "execution_count": 19,
   "id": "9105e43b",
   "metadata": {
    "scrolled": true
   },
   "outputs": [
    {
     "name": "stderr",
     "output_type": "stream",
     "text": [
      "/Users/lievenledegen/opt/anaconda3/lib/python3.9/site-packages/pandas/util/_decorators.py:311: ParserWarning: Falling back to the 'python' engine because the 'c' engine does not support regex separators (separators > 1 char and different from '\\s+' are interpreted as regex); you can avoid this warning by specifying engine='python'.\n",
      "  return func(*args, **kwargs)\n"
     ]
    }
   ],
   "source": [
    "df = pd.read_csv(\"queriesArchief.csv\", sep=\",,\\s+\", usecols=range(2))"
   ]
  },
  {
   "cell_type": "code",
   "execution_count": 20,
   "id": "461ed835",
   "metadata": {},
   "outputs": [
    {
     "data": {
      "text/html": [
       "<div>\n",
       "<style scoped>\n",
       "    .dataframe tbody tr th:only-of-type {\n",
       "        vertical-align: middle;\n",
       "    }\n",
       "\n",
       "    .dataframe tbody tr th {\n",
       "        vertical-align: top;\n",
       "    }\n",
       "\n",
       "    .dataframe thead th {\n",
       "        text-align: right;\n",
       "    }\n",
       "</style>\n",
       "<table border=\"1\" class=\"dataframe\">\n",
       "  <thead>\n",
       "    <tr style=\"text-align: right;\">\n",
       "      <th></th>\n",
       "      <th>\" \"\"title\"\"</th>\n",
       "      <th>\"\"beschrijving\"\",,\";;;;;;;;;</th>\n",
       "    </tr>\n",
       "  </thead>\n",
       "  <tbody>\n",
       "    <tr>\n",
       "      <th>0</th>\n",
       "      <td>\"\"\"Figuratieve kaart van de eigendommen van An...</td>\n",
       "      <td>\"\"Figuratieve kaart van de eigendommen van Ant...</td>\n",
       "    </tr>\n",
       "    <tr>\n",
       "      <th>1</th>\n",
       "      <td>;;;;;;;;;</td>\n",
       "      <td>None</td>\n",
       "    </tr>\n",
       "    <tr>\n",
       "      <th>2</th>\n",
       "      <td>\"De kaart dateert ten vroegste van 1625, toen ...</td>\n",
       "      <td>None</td>\n",
       "    </tr>\n",
       "    <tr>\n",
       "      <th>3</th>\n",
       "      <td>\"\"\"Gent: Sint-Veerleplein: Gravensteen, 1889-1...</td>\n",
       "      <td>\"\"Een nachtopname van het verlichte Gravenstee...</td>\n",
       "    </tr>\n",
       "    <tr>\n",
       "      <th>4</th>\n",
       "      <td>;;;;;;;;;</td>\n",
       "      <td>None</td>\n",
       "    </tr>\n",
       "  </tbody>\n",
       "</table>\n",
       "</div>"
      ],
      "text/plain": [
       "                                         \" \"\"title\"\"  \\\n",
       "0  \"\"\"Figuratieve kaart van de eigendommen van An...   \n",
       "1                                          ;;;;;;;;;   \n",
       "2  \"De kaart dateert ten vroegste van 1625, toen ...   \n",
       "3  \"\"\"Gent: Sint-Veerleplein: Gravensteen, 1889-1...   \n",
       "4                                          ;;;;;;;;;   \n",
       "\n",
       "                        \"\"beschrijving\"\",,\";;;;;;;;;  \n",
       "0  \"\"Figuratieve kaart van de eigendommen van Ant...  \n",
       "1                                               None  \n",
       "2                                               None  \n",
       "3  \"\"Een nachtopname van het verlichte Gravenstee...  \n",
       "4                                               None  "
      ]
     },
     "execution_count": 20,
     "metadata": {},
     "output_type": "execute_result"
    }
   ],
   "source": [
    "df.head()"
   ]
  },
  {
   "cell_type": "code",
   "execution_count": null,
   "id": "e8659161",
   "metadata": {},
   "outputs": [],
   "source": []
  }
 ],
 "metadata": {
  "kernelspec": {
   "display_name": "Python 3 (ipykernel)",
   "language": "python",
   "name": "python3"
  },
  "language_info": {
   "codemirror_mode": {
    "name": "ipython",
    "version": 3
   },
   "file_extension": ".py",
   "mimetype": "text/x-python",
   "name": "python",
   "nbconvert_exporter": "python",
   "pygments_lexer": "ipython3",
   "version": "3.9.7"
  }
 },
 "nbformat": 4,
 "nbformat_minor": 5
}
